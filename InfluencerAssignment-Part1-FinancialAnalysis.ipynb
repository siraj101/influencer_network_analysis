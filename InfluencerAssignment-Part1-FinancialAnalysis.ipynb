{
 "cells": [
  {
   "cell_type": "code",
   "execution_count": 1,
   "id": "652438e2",
   "metadata": {},
   "outputs": [],
   "source": [
    "import numpy as np\n",
    "import pandas as pd"
   ]
  },
  {
   "cell_type": "code",
   "execution_count": 2,
   "id": "5e43ef00",
   "metadata": {},
   "outputs": [],
   "source": [
    "### Import Dataset\n",
    "df = pd.read_csv('C:/Users/Brock/Downloads/train-social.csv')"
   ]
  },
  {
   "cell_type": "code",
   "execution_count": 3,
   "id": "514d03c6",
   "metadata": {},
   "outputs": [],
   "source": [
    "#Probability of follower purchasing product\n",
    "non_influencer = 0\n",
    "influencer_tweet = 0.0002 #percent of followers purchasing with one tweet\n",
    "influencer_tweet2 = 0.0003 #percent of followers purchasing with two tweets"
   ]
  },
  {
   "cell_type": "code",
   "execution_count": 4,
   "id": "bf21a1b3",
   "metadata": {},
   "outputs": [],
   "source": [
    "#Sales & Cost Info\n",
    "profitmargin = 10 #One customer can only buy one unit\n",
    "tweet_cost = 5 #Without analytics for one tweet\n",
    "tweet_cost_analytics = 10 #With analytics for two tweets\n",
    "tweet_cost_noninf = 0 #Tweet cost for non-influencer"
   ]
  },
  {
   "cell_type": "code",
   "execution_count": 5,
   "id": "d6260df2",
   "metadata": {},
   "outputs": [
    {
     "name": "stdout",
     "output_type": "stream",
     "text": [
      "Total Expected Return without analytics is $ 10698137.19\n"
     ]
    }
   ],
   "source": [
    "###Without Analytics\n",
    "df['Expected_Return_No_Analytics'] = ''\n",
    "df.loc[df[\"Choice\"] == 1, 'Expected_Return_No_Analytics'] = (df[\"A_follower_count\"] * influencer_tweet)*profitmargin - tweet_cost*2\n",
    "df.loc[df[\"Choice\"] == 0, 'Expected_Return_No_Analytics'] = (df[\"B_follower_count\"] * influencer_tweet)*profitmargin - tweet_cost*2\n",
    "Total_noanalytics = df[\"Expected_Return_No_Analytics\"].sum()\n",
    "print(\"Total Expected Return without analytics is $\", round(Total_noanalytics,2))"
   ]
  },
  {
   "cell_type": "code",
   "execution_count": 7,
   "id": "39a3c58f",
   "metadata": {},
   "outputs": [
    {
     "name": "stdout",
     "output_type": "stream",
     "text": [
      "Total Expected Return with perfect analytics is $ 16074705.78\n",
      "The increase in net profit from using a perfect analytic model is $ 5376568.59\n"
     ]
    }
   ],
   "source": [
    "###Perfect Model\n",
    "df['Expected_Return_Perfect'] = ''\n",
    "df.loc[df[\"Choice\"] == 1, 'Expected_Return_Perfect'] = (df[\"A_follower_count\"] * influencer_tweet2)*profitmargin - tweet_cost_analytics\n",
    "df.loc[df[\"Choice\"] == 0, 'Expected_Return_Perfect'] = (df[\"B_follower_count\"] * influencer_tweet2)*profitmargin - tweet_cost_analytics\n",
    "Total_perfect = df[\"Expected_Return_Perfect\"].sum()\n",
    "print(\"Total Expected Return with perfect analytics is $\", round(Total_perfect,2))\n",
    "print(\"The increase in net profit from using a perfect analytic model is $\",round(Total_perfect - Total_noanalytics,2))"
   ]
  },
  {
   "cell_type": "code",
   "execution_count": null,
   "id": "72b77087",
   "metadata": {},
   "outputs": [],
   "source": [
    "###With Analytics\n",
    "#Need 1st step of Part 1 to determine who model predicts as influence, assume Influencer column is model projection for now\n",
    "df['Influencer']= '' #This column with be the models predictions of who the influencer is\n",
    "df['Expected_Return_Analytics'] = ''\n",
    "df.loc[df[\"Influencer\"] == 1 & df[\"Influencer\"] == df[\"Choice\"], 'Expected_Return_Analytics'] = (df[\"A_follower_count\"] * influencer_tweet2)*profitmargin - tweet_cost_analytics\n",
    "df.loc[df[\"Influencer\"] == 0 & df[\"Influencer\"] == df[\"Choice\"], 'Expected_Return_Analytics'] = (df[\"B_follower_count\"] * influencer_tweet2)*profitmargin - tweet_cost_analytics\n",
    "#When Model selects wrong person, fee still must be paid to person\n",
    "df.loc[df[\"Influencer\"] != df[\"Choice\"], 'Expected_Return_Analytics'] = -tweet_cost_analytics\n",
    "Total_model = df[\"Expected_Return\"].sum()\n",
    "print(\"Total Expected Return with analytics is $\", Total_model)\n",
    "print(\"The increase in net profit from using an analytic model is $\",round(Total_model - Total_noanalytics,2))"
   ]
  }
 ],
 "metadata": {
  "kernelspec": {
   "display_name": "Python 3",
   "language": "python",
   "name": "python3"
  },
  "language_info": {
   "codemirror_mode": {
    "name": "ipython",
    "version": 3
   },
   "file_extension": ".py",
   "mimetype": "text/x-python",
   "name": "python",
   "nbconvert_exporter": "python",
   "pygments_lexer": "ipython3",
   "version": "3.8.8"
  }
 },
 "nbformat": 4,
 "nbformat_minor": 5
}
