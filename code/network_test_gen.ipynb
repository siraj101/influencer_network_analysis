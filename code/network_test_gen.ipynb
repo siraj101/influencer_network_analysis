{
 "cells": [
  {
   "cell_type": "markdown",
   "id": "95fd62b7-c970-410e-9092-42386500f016",
   "metadata": {},
   "source": [
    "This file is used to randomly generate a network diagram to test the networkX code"
   ]
  },
  {
   "cell_type": "code",
   "execution_count": 1,
   "id": "95cc0b1d-b949-43ed-bc47-f2bb35c1ba20",
   "metadata": {},
   "outputs": [],
   "source": [
    "import pandas as pd\n",
    "import random as rd"
   ]
  },
  {
   "cell_type": "code",
   "execution_count": 2,
   "id": "67b3ab30-785f-42fe-9c7a-25d0e6d41daa",
   "metadata": {},
   "outputs": [],
   "source": [
    "columns = ['user1', 'user2', 'type']\n",
    "user_names = ['Alex', 'John', \"Cathy\", 'Leo', 'Jessica', 'Harmony']\n",
    "types = ['Tweet', 'RT']\n",
    "rows = 100\n",
    "directory = '../test/'"
   ]
  },
  {
   "cell_type": "code",
   "execution_count": 3,
   "id": "8b035e22-87d7-45d3-94be-b375655996b9",
   "metadata": {},
   "outputs": [],
   "source": [
    "df = pd.DataFrame(columns=columns)\n",
    "\n",
    "for row in range(rows):\n",
    "    ttype = rd.choice(types)\n",
    "    if ttype == 'RT':\n",
    "        user1 = rd.choice(user_names)\n",
    "        user2 = rd.choice(user_names)\n",
    "    else:\n",
    "        user1 = user2 = rd.choice(user_names)\n",
    "    df.loc[len(df.index)] = [user1, user2, ttype]"
   ]
  },
  {
   "cell_type": "code",
   "execution_count": 4,
   "id": "d4bfc872-cac0-41b6-8bbb-fe9a934f8b58",
   "metadata": {},
   "outputs": [
    {
     "data": {
      "text/html": [
       "<div>\n",
       "<style scoped>\n",
       "    .dataframe tbody tr th:only-of-type {\n",
       "        vertical-align: middle;\n",
       "    }\n",
       "\n",
       "    .dataframe tbody tr th {\n",
       "        vertical-align: top;\n",
       "    }\n",
       "\n",
       "    .dataframe thead th {\n",
       "        text-align: right;\n",
       "    }\n",
       "</style>\n",
       "<table border=\"1\" class=\"dataframe\">\n",
       "  <thead>\n",
       "    <tr style=\"text-align: right;\">\n",
       "      <th></th>\n",
       "      <th>user1</th>\n",
       "      <th>user2</th>\n",
       "      <th>type</th>\n",
       "    </tr>\n",
       "  </thead>\n",
       "  <tbody>\n",
       "    <tr>\n",
       "      <th>0</th>\n",
       "      <td>John</td>\n",
       "      <td>John</td>\n",
       "      <td>Tweet</td>\n",
       "    </tr>\n",
       "    <tr>\n",
       "      <th>1</th>\n",
       "      <td>Harmony</td>\n",
       "      <td>Leo</td>\n",
       "      <td>RT</td>\n",
       "    </tr>\n",
       "    <tr>\n",
       "      <th>2</th>\n",
       "      <td>John</td>\n",
       "      <td>John</td>\n",
       "      <td>Tweet</td>\n",
       "    </tr>\n",
       "    <tr>\n",
       "      <th>3</th>\n",
       "      <td>Jessica</td>\n",
       "      <td>Cathy</td>\n",
       "      <td>RT</td>\n",
       "    </tr>\n",
       "    <tr>\n",
       "      <th>4</th>\n",
       "      <td>Leo</td>\n",
       "      <td>John</td>\n",
       "      <td>RT</td>\n",
       "    </tr>\n",
       "  </tbody>\n",
       "</table>\n",
       "</div>"
      ],
      "text/plain": [
       "     user1  user2   type\n",
       "0     John   John  Tweet\n",
       "1  Harmony    Leo     RT\n",
       "2     John   John  Tweet\n",
       "3  Jessica  Cathy     RT\n",
       "4      Leo   John     RT"
      ]
     },
     "execution_count": 4,
     "metadata": {},
     "output_type": "execute_result"
    }
   ],
   "source": [
    "df.head()"
   ]
  },
  {
   "cell_type": "code",
   "execution_count": 5,
   "id": "0d4eb9dd-d6c8-411c-b3cd-86f863585753",
   "metadata": {},
   "outputs": [],
   "source": [
    "df.to_csv(directory+'network.csv')"
   ]
  }
 ],
 "metadata": {
  "kernelspec": {
   "display_name": "Python 3",
   "language": "python",
   "name": "python3"
  },
  "language_info": {
   "codemirror_mode": {
    "name": "ipython",
    "version": 3
   },
   "file_extension": ".py",
   "mimetype": "text/x-python",
   "name": "python",
   "nbconvert_exporter": "python",
   "pygments_lexer": "ipython3",
   "version": "3.8.8"
  }
 },
 "nbformat": 4,
 "nbformat_minor": 5
}
